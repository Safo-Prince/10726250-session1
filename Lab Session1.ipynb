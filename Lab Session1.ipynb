{
 "cells": [
  {
   "cell_type": "markdown",
   "metadata": {},
   "source": [
    "# CSCD 319 - COMPUTER VISION\n",
    "\n",
    "## LAB SESSION 1: \n",
    "### TOPIC: OVERVIEW OF PYTHON PROGRAMMING AND THE JUPYTER NOTEBOOK"
   ]
  },
  {
   "cell_type": "markdown",
   "metadata": {},
   "source": [
    "#### BASICS OF PYTHON PROGRAMMING"
   ]
  },
  {
   "cell_type": "code",
   "execution_count": null,
   "metadata": {},
   "outputs": [],
   "source": [
    "# FIRST PYTHON CODE\n",
    "\n",
    "print('Hello World')"
   ]
  },
  {
   "cell_type": "markdown",
   "metadata": {},
   "source": [
    "##### PYTHON INDENTATION:\n",
    "\n",
    "Python uses indentation to indicate a block of code. \n",
    "\n",
    "You can take it like curly brackets used in other programming languages to indicate code blocks.\n",
    "\n",
    "Python will give an error if you skip an indentation or the number of indentation spaces in a block differs.\n",
    "\n",
    "The programmer gets to decide the number of spaces to indent the code. But four spaces is the default in Jupyter Notebook \n",
    "\n",
    "\n",
    "    \n"
   ]
  },
  {
   "cell_type": "code",
   "execution_count": null,
   "metadata": {},
   "outputs": [],
   "source": [
    "#Example Code\n",
    "# Write a python program to display the even numbers between 20 and 100\n",
    "var1 = 34\n",
    "for number in range(21, 100):\n",
    "    #Check if number is even\n",
    "    global var1 \n",
    "    var2 = 56\n",
    "    if number % 2 == 0:\n",
    "        #Print out even number\n",
    "        print(number, ' is even')                                                  \n",
    "    else:\n",
    "        #Indicate that number is odd\n",
    "        print(str(number) + ' is odd')\n",
    "        "
   ]
  },
  {
   "cell_type": "markdown",
   "metadata": {},
   "source": [
    "##### VARIABLES IN PYTHON:\n",
    "\n",
    "Containers for storing values. Python has no command for declaring a variable: like \"int a\" in C++ or \"let num\" in JavaScript.\n",
    "\n",
    "You do not need to declare variables with any particular type and they can actually be changed after they have been set.\n",
    "\n",
    "Casting can be used to specify the data type of a variable.\n",
    "\n",
    "Variable names are case-sensitive.\n",
    "\n",
    "You may also unpack a collection of values into a variable.\n",
    "\n",
    "**Global variables are variables that are created outside of functions. They may be used in function scopes but should be referenced as such. I made a video tutorial to help you out. Find it here: https://youtu.be/rZ6POn6Saa4 **\n",
    "\n",
    "Variables can store different data types and some examples of data types in python can be found below\n",
    "\n",
    "Text Type:\tstr\\\n",
    "Numeric Types:\tint, float, complex\\\n",
    "Sequence Types:\tlist, tuple, range\\\n",
    "Mapping Type:\tdict\\\n",
    "Set Types:\tset, frozenset\\\n",
    "Boolean Type:\tbool\\\n",
    "Binary Types:\tbytes, bytearray, memoryview\n",
    "    "
   ]
  },
  {
   "cell_type": "code",
   "execution_count": 1,
   "metadata": {},
   "outputs": [
    {
     "name": "stdout",
     "output_type": "stream",
     "text": [
      "5\n"
     ]
    }
   ],
   "source": [
    "# Demonstration of variable declaration and change in type\n",
    "x = 5\n",
    "print(x)"
   ]
  },
  {
   "cell_type": "code",
   "execution_count": 2,
   "metadata": {},
   "outputs": [
    {
     "name": "stdout",
     "output_type": "stream",
     "text": [
      "<class 'int'>\n"
     ]
    }
   ],
   "source": [
    "print(type(x))"
   ]
  },
  {
   "cell_type": "code",
   "execution_count": 3,
   "metadata": {},
   "outputs": [
    {
     "name": "stdout",
     "output_type": "stream",
     "text": [
      "Akua\n"
     ]
    }
   ],
   "source": [
    "x = 'Akua'         # You may assign x to a string value\n",
    "print(x)"
   ]
  },
  {
   "cell_type": "code",
   "execution_count": 4,
   "metadata": {},
   "outputs": [
    {
     "name": "stdout",
     "output_type": "stream",
     "text": [
      "<class 'str'>\n"
     ]
    }
   ],
   "source": [
    "print(type(x))"
   ]
  },
  {
   "cell_type": "code",
   "execution_count": 5,
   "metadata": {},
   "outputs": [
    {
     "name": "stdout",
     "output_type": "stream",
     "text": [
      "3\n"
     ]
    }
   ],
   "source": [
    "# Casting variables in Python\n",
    "y = str(3)                    # Casting y as a string\n",
    "print(y)"
   ]
  },
  {
   "cell_type": "code",
   "execution_count": 6,
   "metadata": {},
   "outputs": [
    {
     "name": "stdout",
     "output_type": "stream",
     "text": [
      "<class 'str'>\n"
     ]
    }
   ],
   "source": [
    "print(type(y))"
   ]
  },
  {
   "cell_type": "code",
   "execution_count": 7,
   "metadata": {},
   "outputs": [
    {
     "name": "stdout",
     "output_type": "stream",
     "text": [
      "3 is my favorite number\n"
     ]
    }
   ],
   "source": [
    "# String concatenation to ensure that the type casting worked.\n",
    "print(y + ' is my favorite number')"
   ]
  },
  {
   "cell_type": "code",
   "execution_count": 8,
   "metadata": {},
   "outputs": [
    {
     "name": "stdout",
     "output_type": "stream",
     "text": [
      "lowerCase\n",
      "upperCase\n"
     ]
    }
   ],
   "source": [
    "# Demonstrating case-sensitivity in Python \n",
    "a = 'lowerCase'\n",
    "A = 'upperCase'\n",
    "\n",
    "print(a)\n",
    "print(A)"
   ]
  },
  {
   "cell_type": "code",
   "execution_count": null,
   "metadata": {},
   "outputs": [],
   "source": [
    "# Unpacking a collection of values into variables\n",
    "names = ['Frank Afum', 'Yaw Daboh', 'Adwoa Mansa', 'Kwabena Mensah']\n",
    "\n",
    "f, y, a, k = names        #Assigning names to initials\n",
    "print(f)\n",
    "print(y)\n",
    "print(a)\n",
    "print(k)"
   ]
  },
  {
   "cell_type": "markdown",
   "metadata": {},
   "source": [
    "##### PYTHON DATA STRUCTURES\n",
    "There are two groups of data structures in Python.\\\n",
    "** 1. Built-in Data Structures. E.g List, Dictionary, Tuple, Sets\\\n",
    "** 2. User-defined Data Structures. E.g Arrays, Stack, Queue, Trees, Graphs\n",
    "\n",
    "Read more on each of the Built-in Data Structures via the links below:\n",
    "    \n",
    "1. Lists: https://www.w3schools.com/python/python_lists.asp\n",
    "2. Dictionary: https://realpython.com/python-dicts/ \n",
    "3. Tuple: https://www.datacamp.com/community/tutorials/python-tuples?\n",
    "4. Sets: https://www.programiz.com/python-programming/set"
   ]
  },
  {
   "cell_type": "markdown",
   "metadata": {},
   "source": [
    "##### FUNCTIONS IN PYTHON\n",
    "\n",
    "A python function is a block of code that runs when it is called. It can receive parameters and return data as a result.\\\n",
    "The **def** keyword is used to declare functions in python.\\\n",
    "Functions are called by using the name of the function with parenthesis attached. E.g function_name()\n",
    "\n",
    "NB:\\\n",
    "A **parameter** is the variable listed inside the parentheses in the function definition.\\\n",
    "An **argument** is the value that is sent to the function when it is called."
   ]
  },
  {
   "cell_type": "code",
   "execution_count": 10,
   "metadata": {},
   "outputs": [],
   "source": [
    "# A function to sum whole numbers up to a given value. 0, 1, 2, 3, 4 = 0 + 1 + 2 + 3 + 4 = 10\n",
    "# For instance we may decide to sum up all whole numbers up to 50.\n",
    "\n",
    "def sum_whole_numbers(upperLimit):              # We pass a parameter (upperLimit) when declaring the function\n",
    "    sum = (upperLimit / 2) * (upperLimit + 1)\n",
    "    return sum"
   ]
  },
  {
   "cell_type": "code",
   "execution_count": 11,
   "metadata": {},
   "outputs": [
    {
     "data": {
      "text/plain": [
       "3240.0"
      ]
     },
     "execution_count": 11,
     "metadata": {},
     "output_type": "execute_result"
    }
   ],
   "source": [
    "sum_whole_numbers(80)        # We pass an argument (80) when calling the function."
   ]
  },
  {
   "cell_type": "code",
   "execution_count": 13,
   "metadata": {},
   "outputs": [
    {
     "name": "stdout",
     "output_type": "stream",
     "text": [
      "172\n"
     ]
    }
   ],
   "source": [
    "# FUNCTION DECLARATION WITH THE **LAMBDA KEYWORD\n",
    "# Lambda functions are mostly smaller functions that are classified to be anonymous in nature.\n",
    "# This is because these functions do not bear function names\n",
    "# They may take several arguments but can only have one expression\n",
    "\n",
    "# Example of a lambda function to add three values and then assign the result to a variable\n",
    "# lambda arguments: expression\n",
    "add = lambda x, y, z: x + y + z;\n",
    "\n",
    "print(add(67, 46, 59))"
   ]
  },
  {
   "cell_type": "code",
   "execution_count": null,
   "metadata": {},
   "outputs": [],
   "source": []
  },
  {
   "cell_type": "markdown",
   "metadata": {},
   "source": [
    "### ASSIGNMENT 1 - 5 marks\n",
    "\n",
    "All codes should be written in Python 3.x\n",
    "\n",
    "**SUBMISSION DEADLINE:** FRIDAY, APRIL 23rd, 2021."
   ]
  },
  {
   "cell_type": "markdown",
   "metadata": {},
   "source": [
    "##### QUESTION 1\n",
    "Write a program to display the square root of even numbers between 1 and 50"
   ]
  },
  {
   "cell_type": "code",
   "execution_count": 34,
   "metadata": {},
   "outputs": [
    {
     "name": "stdout",
     "output_type": "stream",
     "text": [
      "1.4142135623730951\n",
      "2.0\n",
      "2.449489742783178\n",
      "2.8284271247461903\n",
      "3.1622776601683795\n",
      "3.4641016151377544\n",
      "3.7416573867739413\n",
      "4.0\n",
      "4.242640687119285\n",
      "4.47213595499958\n",
      "4.69041575982343\n",
      "4.898979485566356\n",
      "5.0990195135927845\n",
      "5.291502622129181\n",
      "5.477225575051661\n",
      "5.656854249492381\n",
      "5.830951894845301\n",
      "6.0\n",
      "6.164414002968976\n",
      "6.324555320336759\n",
      "6.48074069840786\n",
      "6.6332495807108\n",
      "6.782329983125268\n",
      "6.928203230275509\n",
      "7.0710678118654755\n"
     ]
    }
   ],
   "source": [
    "import math\n",
    "for number in range(1, 51):\n",
    "    if(number % 2 == 0):\n",
    "        squareRoot = math.sqrt(number)\n",
    "        print(squareRoot)"
   ]
  },
  {
   "cell_type": "markdown",
   "metadata": {},
   "source": [
    "##### QUESTION 2\n",
    "\n",
    "Write a program to generate an array of 10 random whole numbers with the lower limit and the upper limit coming from a user input.\\\n",
    "This means that a user would define the lower boundary of the array as well as the upper boundary by providing an input for both values.\\\n",
    "And then you generate an array/list of random numbers that falls within the given user input.\n",
    "\n",
    "**Hint:** You may use the random method imported to help you generate the numbers. "
   ]
  },
  {
   "cell_type": "code",
   "execution_count": 5,
   "metadata": {},
   "outputs": [],
   "source": [
    "import random\n",
    "def randomIntegerGenerator(lower_limit,upper_limit):\n",
    "    count = 0 \n",
    "    random_values = []\n",
    "    while count <=10:\n",
    "        random_value = random.randint(lower_limit,upper_limit)\n",
    "        random_values.append(random_value)\n",
    "        count+=1\n",
    "    return random_values\n",
    "        \n",
    "    \n",
    "    \n"
   ]
  },
  {
   "cell_type": "code",
   "execution_count": 6,
   "metadata": {},
   "outputs": [
    {
     "data": {
      "text/plain": [
       "[3, 4, 5, 6, 2, 6, 7, 6, 2, 3, 6]"
      ]
     },
     "execution_count": 6,
     "metadata": {},
     "output_type": "execute_result"
    }
   ],
   "source": [
    "#testing function above\n",
    "randomIntegerGenerator(2,7)"
   ]
  },
  {
   "cell_type": "markdown",
   "metadata": {},
   "source": [
    "##### QUESTION 3\n",
    "\n",
    "Write a function that takes the array generated above in Question 2 as an argument and perform both the addition and multiplication operations on the array.\\\n",
    "Print out the results of each operation."
   ]
  },
  {
   "cell_type": "code",
   "execution_count": 42,
   "metadata": {},
   "outputs": [],
   "source": [
    "import numpy as np\n",
    "\n",
    "def arrayOperator(x):\n",
    "    array = np.array(x)\n",
    "    additionOfArrays = np.add(array,array)\n",
    "    multipicationOfArrays=np.multiply(array,array)\n",
    "    print(\"addition of arrays : \", additionOfArrays)\n",
    "    print(\"multiplication  of arrays : \", multipicationOfArrays)\n",
    "    \n",
    "    \n",
    "    \n"
   ]
  },
  {
   "cell_type": "code",
   "execution_count": 43,
   "metadata": {},
   "outputs": [
    {
     "name": "stdout",
     "output_type": "stream",
     "text": [
      "addition of arrays =  [ 8  6  8 14 18 14 16  6 20  4 18]\n",
      "multiplication  of arrays =  [ 16   9  16  49  81  49  64   9 100   4  81]\n"
     ]
    }
   ],
   "source": [
    "#testing function above\n",
    "x = randomIntegerGenerator(2,10)\n",
    "arrayOperator(x)"
   ]
  },
  {
   "cell_type": "markdown",
   "metadata": {},
   "source": [
    "##### QUESTION 4\n",
    "Let us practise with the popular Collatz sequence.\n",
    "\n",
    "Write a function named collatz() that has one parameter named number. If \n",
    "number is even, then collatz() should print number // 2 and return the resulting value.\\\n",
    "If number is odd, then collatz() should print and return (3 * number + 1).\n",
    "\n",
    "Then write a program that lets the user type in an integer and that keeps \n",
    "calling collatz() on that number until the function returns the value 1. "
   ]
  },
  {
   "cell_type": "code",
   "execution_count": 52,
   "metadata": {},
   "outputs": [],
   "source": [
    "def collatz(number):\n",
    "    output = 0\n",
    "    if number%2==0:\n",
    "        output = number // 2\n",
    "    else:\n",
    "        output = 3*number+1\n",
    "        \n",
    "    print(output)\n",
    "    return output\n",
    "\n",
    "\n",
    "\n",
    "def callCollatz(number):\n",
    "    results = collatz(number)\n",
    "    if results != 1:    \n",
    "        Callcollatz(results)\n",
    "        \n",
    "        "
   ]
  },
  {
   "cell_type": "code",
   "execution_count": 53,
   "metadata": {},
   "outputs": [
    {
     "name": "stdout",
     "output_type": "stream",
     "text": [
      "28\n",
      "14\n",
      "7\n",
      "22\n",
      "11\n",
      "34\n",
      "17\n",
      "52\n",
      "26\n",
      "13\n",
      "40\n",
      "20\n",
      "10\n",
      "5\n",
      "16\n",
      "8\n",
      "4\n",
      "2\n",
      "1\n"
     ]
    }
   ],
   "source": [
    "#testing function above\n",
    "callCollatz(9)"
   ]
  },
  {
   "cell_type": "code",
   "execution_count": 57,
   "metadata": {},
   "outputs": [
    {
     "name": "stdout",
     "output_type": "stream",
     "text": [
      "1.4142135623730951\n",
      "2.0\n",
      "2.449489742783178\n",
      "2.8284271247461903\n",
      "3.1622776601683795\n",
      "3.4641016151377544\n",
      "3.7416573867739413\n",
      "4.0\n",
      "4.242640687119285\n",
      "4.47213595499958\n",
      "4.69041575982343\n",
      "4.898979485566356\n",
      "5.0990195135927845\n",
      "5.291502622129181\n",
      "5.477225575051661\n",
      "5.656854249492381\n",
      "5.830951894845301\n",
      "6.0\n",
      "6.164414002968976\n",
      "6.324555320336759\n",
      "6.48074069840786\n",
      "6.6332495807108\n",
      "6.782329983125268\n",
      "6.928203230275509\n",
      "7.0710678118654755\n"
     ]
    }
   ],
   "source": [
    "import math\n",
    "for number in range(2,51,2):\n",
    "    x = math.sqrt(number)\n",
    "    print(x)\n"
   ]
  },
  {
   "cell_type": "code",
   "execution_count": 62,
   "metadata": {},
   "outputs": [],
   "source": [
    "def generateWholeNumberArray(lowerLimit,upperLimit):\n",
    "    randomNumberArray = []\n",
    "    for number in range(1,11):\n",
    "        randomNumber = random.randint(lowerLimit,upperLimit)\n",
    "        randomNumberArray.append(randomNumber)\n",
    "    return randomNumberArray\n",
    "   \n",
    "        \n",
    "        "
   ]
  },
  {
   "cell_type": "code",
   "execution_count": 88,
   "metadata": {},
   "outputs": [
    {
     "data": {
      "text/plain": [
       "[24, 19, 9, 23, 7, 16, 5, 11, 19, 18, 12]"
      ]
     },
     "execution_count": 88,
     "metadata": {},
     "output_type": "execute_result"
    }
   ],
   "source": [
    "generateWholeNumberArray(5,27)"
   ]
  },
  {
   "cell_type": "code",
   "execution_count": 74,
   "metadata": {},
   "outputs": [],
   "source": [
    "import numpy as np\n",
    "def name(x):\n",
    "    newArray = np.array(x)\n",
    "    for number in range(0,len(x)):\n",
    "        totalAddition = newArray + x[number]\n",
    "        totalMultiplication= newArray *x[number]\n",
    "    print(totalAddition)\n",
    "    print(totalMultiplication)\n",
    "     "
   ]
  },
  {
   "cell_type": "code",
   "execution_count": 86,
   "metadata": {},
   "outputs": [],
   "source": [
    "def collatz(number):\n",
    "    value=[]\n",
    "    if number % 2 ==0:\n",
    "        answer = number // 2\n",
    "    else:\n",
    "        answer = output = 3*number+1\n",
    "        \n",
    "    print(answer)\n",
    "    return answer\n",
    "        \n",
    "        \n",
    "    \n",
    "def runCollatz(number):\n",
    "    value = collatz(number)\n",
    "    if value ==1:\n",
    "        return value\n",
    "    else:\n",
    "        runCollatz(value)"
   ]
  },
  {
   "cell_type": "code",
   "execution_count": 2,
   "metadata": {},
   "outputs": [
    {
     "ename": "NameError",
     "evalue": "name 'runCollatz' is not defined",
     "output_type": "error",
     "traceback": [
      "\u001b[1;31m---------------------------------------------------------------------------\u001b[0m",
      "\u001b[1;31mNameError\u001b[0m                                 Traceback (most recent call last)",
      "\u001b[1;32m<ipython-input-2-f005f7253281>\u001b[0m in \u001b[0;36m<module>\u001b[1;34m\u001b[0m\n\u001b[1;32m----> 1\u001b[1;33m \u001b[0mrunCollatz\u001b[0m\u001b[1;33m(\u001b[0m\u001b[1;36m6\u001b[0m\u001b[1;33m)\u001b[0m\u001b[1;33m\u001b[0m\u001b[1;33m\u001b[0m\u001b[0m\n\u001b[0m",
      "\u001b[1;31mNameError\u001b[0m: name 'runCollatz' is not defined"
     ]
    }
   ],
   "source": [
    "runCollatz(6)"
   ]
  },
  {
   "cell_type": "markdown",
   "metadata": {},
   "source": [
    "Q5."
   ]
  },
  {
   "cell_type": "code",
   "execution_count": 4,
   "metadata": {},
   "outputs": [
    {
     "name": "stdout",
     "output_type": "stream",
     "text": [
      ": 12\n",
      "one two \n"
     ]
    }
   ],
   "source": [
    "#digits to word translator\n",
    "phone = input(\": \")\n",
    "digits_mapping ={\n",
    "    \"0\":\"zero\",\n",
    "    \"1\":\"one\",\n",
    "    \"2\":\"two\",\n",
    "    \"3\":\"three\", \n",
    "    \"4\":\"four\",\n",
    "    \"5\":\"five\",\n",
    "    \"6\":\"six\",\n",
    "    \"7\":\"seven\",\n",
    "    \"8\":\"eight\",\n",
    "    \"9\":\"nine\"\n",
    "\n",
    "}\n",
    "output = \"\"\n",
    "for character in phone:\n",
    "    output += digits_mapping.get(character,)+ \" \"\n",
    "print(output)   "
   ]
  },
  {
   "cell_type": "code",
   "execution_count": null,
   "metadata": {},
   "outputs": [],
   "source": []
  },
  {
   "cell_type": "code",
   "execution_count": null,
   "metadata": {},
   "outputs": [],
   "source": []
  }
 ],
 "metadata": {
  "kernelspec": {
   "display_name": "Python 3",
   "language": "python",
   "name": "python3"
  },
  "language_info": {
   "codemirror_mode": {
    "name": "ipython",
    "version": 3
   },
   "file_extension": ".py",
   "mimetype": "text/x-python",
   "name": "python",
   "nbconvert_exporter": "python",
   "pygments_lexer": "ipython3",
   "version": "3.7.6"
  }
 },
 "nbformat": 4,
 "nbformat_minor": 5
}
